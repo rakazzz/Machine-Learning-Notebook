{
  "cells": [
    {
      "cell_type": "code",
      "execution_count": null,
      "metadata": {
        "_kg_hide-input": true,
        "id": "rG29jnHE2JsP",
        "tags": []
      },
      "outputs": [],
      "source": [
        "import warnings\n",
        "warnings.filterwarnings('ignore')"
      ]
    },
    {
      "cell_type": "code",
      "execution_count": null,
      "metadata": {
        "id": "DXL9UGER2bMy"
      },
      "outputs": [],
      "source": [
        "# Importing required libraries\n",
        "import pandas as pd\n",
        "import numpy as np\n",
        "import matplotlib.pyplot as plt"
      ]
    },
    {
      "cell_type": "code",
      "execution_count": null,
      "metadata": {
        "id": "KFlX32E32b-h",
        "outputId": "8eeff8ca-983e-4158-f12e-51cd20540716",
        "colab": {
          "base_uri": "https://localhost:8080/",
          "height": 206
        }
      },
      "outputs": [
        {
          "output_type": "execute_result",
          "data": {
            "text/plain": [
              "  symbol                       date   close    high       low    open  \\\n",
              "0   GOOG  2016-06-14 00:00:00+00:00  718.27  722.47  713.1200  716.48   \n",
              "1   GOOG  2016-06-15 00:00:00+00:00  718.92  722.98  717.3100  719.00   \n",
              "2   GOOG  2016-06-16 00:00:00+00:00  710.36  716.65  703.2600  714.91   \n",
              "3   GOOG  2016-06-17 00:00:00+00:00  691.72  708.82  688.4515  708.65   \n",
              "4   GOOG  2016-06-20 00:00:00+00:00  693.71  702.48  693.4100  698.77   \n",
              "\n",
              "    volume  adjClose  adjHigh    adjLow  adjOpen  adjVolume  divCash  \\\n",
              "0  1306065    718.27   722.47  713.1200   716.48    1306065      0.0   \n",
              "1  1214517    718.92   722.98  717.3100   719.00    1214517      0.0   \n",
              "2  1982471    710.36   716.65  703.2600   714.91    1982471      0.0   \n",
              "3  3402357    691.72   708.82  688.4515   708.65    3402357      0.0   \n",
              "4  2082538    693.71   702.48  693.4100   698.77    2082538      0.0   \n",
              "\n",
              "   splitFactor  \n",
              "0          1.0  \n",
              "1          1.0  \n",
              "2          1.0  \n",
              "3          1.0  \n",
              "4          1.0  "
            ],
            "text/html": [
              "\n",
              "  <div id=\"df-fad371af-0485-45b2-b58e-e91268719572\">\n",
              "    <div class=\"colab-df-container\">\n",
              "      <div>\n",
              "<style scoped>\n",
              "    .dataframe tbody tr th:only-of-type {\n",
              "        vertical-align: middle;\n",
              "    }\n",
              "\n",
              "    .dataframe tbody tr th {\n",
              "        vertical-align: top;\n",
              "    }\n",
              "\n",
              "    .dataframe thead th {\n",
              "        text-align: right;\n",
              "    }\n",
              "</style>\n",
              "<table border=\"1\" class=\"dataframe\">\n",
              "  <thead>\n",
              "    <tr style=\"text-align: right;\">\n",
              "      <th></th>\n",
              "      <th>symbol</th>\n",
              "      <th>date</th>\n",
              "      <th>close</th>\n",
              "      <th>high</th>\n",
              "      <th>low</th>\n",
              "      <th>open</th>\n",
              "      <th>volume</th>\n",
              "      <th>adjClose</th>\n",
              "      <th>adjHigh</th>\n",
              "      <th>adjLow</th>\n",
              "      <th>adjOpen</th>\n",
              "      <th>adjVolume</th>\n",
              "      <th>divCash</th>\n",
              "      <th>splitFactor</th>\n",
              "    </tr>\n",
              "  </thead>\n",
              "  <tbody>\n",
              "    <tr>\n",
              "      <th>0</th>\n",
              "      <td>GOOG</td>\n",
              "      <td>2016-06-14 00:00:00+00:00</td>\n",
              "      <td>718.27</td>\n",
              "      <td>722.47</td>\n",
              "      <td>713.1200</td>\n",
              "      <td>716.48</td>\n",
              "      <td>1306065</td>\n",
              "      <td>718.27</td>\n",
              "      <td>722.47</td>\n",
              "      <td>713.1200</td>\n",
              "      <td>716.48</td>\n",
              "      <td>1306065</td>\n",
              "      <td>0.0</td>\n",
              "      <td>1.0</td>\n",
              "    </tr>\n",
              "    <tr>\n",
              "      <th>1</th>\n",
              "      <td>GOOG</td>\n",
              "      <td>2016-06-15 00:00:00+00:00</td>\n",
              "      <td>718.92</td>\n",
              "      <td>722.98</td>\n",
              "      <td>717.3100</td>\n",
              "      <td>719.00</td>\n",
              "      <td>1214517</td>\n",
              "      <td>718.92</td>\n",
              "      <td>722.98</td>\n",
              "      <td>717.3100</td>\n",
              "      <td>719.00</td>\n",
              "      <td>1214517</td>\n",
              "      <td>0.0</td>\n",
              "      <td>1.0</td>\n",
              "    </tr>\n",
              "    <tr>\n",
              "      <th>2</th>\n",
              "      <td>GOOG</td>\n",
              "      <td>2016-06-16 00:00:00+00:00</td>\n",
              "      <td>710.36</td>\n",
              "      <td>716.65</td>\n",
              "      <td>703.2600</td>\n",
              "      <td>714.91</td>\n",
              "      <td>1982471</td>\n",
              "      <td>710.36</td>\n",
              "      <td>716.65</td>\n",
              "      <td>703.2600</td>\n",
              "      <td>714.91</td>\n",
              "      <td>1982471</td>\n",
              "      <td>0.0</td>\n",
              "      <td>1.0</td>\n",
              "    </tr>\n",
              "    <tr>\n",
              "      <th>3</th>\n",
              "      <td>GOOG</td>\n",
              "      <td>2016-06-17 00:00:00+00:00</td>\n",
              "      <td>691.72</td>\n",
              "      <td>708.82</td>\n",
              "      <td>688.4515</td>\n",
              "      <td>708.65</td>\n",
              "      <td>3402357</td>\n",
              "      <td>691.72</td>\n",
              "      <td>708.82</td>\n",
              "      <td>688.4515</td>\n",
              "      <td>708.65</td>\n",
              "      <td>3402357</td>\n",
              "      <td>0.0</td>\n",
              "      <td>1.0</td>\n",
              "    </tr>\n",
              "    <tr>\n",
              "      <th>4</th>\n",
              "      <td>GOOG</td>\n",
              "      <td>2016-06-20 00:00:00+00:00</td>\n",
              "      <td>693.71</td>\n",
              "      <td>702.48</td>\n",
              "      <td>693.4100</td>\n",
              "      <td>698.77</td>\n",
              "      <td>2082538</td>\n",
              "      <td>693.71</td>\n",
              "      <td>702.48</td>\n",
              "      <td>693.4100</td>\n",
              "      <td>698.77</td>\n",
              "      <td>2082538</td>\n",
              "      <td>0.0</td>\n",
              "      <td>1.0</td>\n",
              "    </tr>\n",
              "  </tbody>\n",
              "</table>\n",
              "</div>\n",
              "      <button class=\"colab-df-convert\" onclick=\"convertToInteractive('df-fad371af-0485-45b2-b58e-e91268719572')\"\n",
              "              title=\"Convert this dataframe to an interactive table.\"\n",
              "              style=\"display:none;\">\n",
              "        \n",
              "  <svg xmlns=\"http://www.w3.org/2000/svg\" height=\"24px\"viewBox=\"0 0 24 24\"\n",
              "       width=\"24px\">\n",
              "    <path d=\"M0 0h24v24H0V0z\" fill=\"none\"/>\n",
              "    <path d=\"M18.56 5.44l.94 2.06.94-2.06 2.06-.94-2.06-.94-.94-2.06-.94 2.06-2.06.94zm-11 1L8.5 8.5l.94-2.06 2.06-.94-2.06-.94L8.5 2.5l-.94 2.06-2.06.94zm10 10l.94 2.06.94-2.06 2.06-.94-2.06-.94-.94-2.06-.94 2.06-2.06.94z\"/><path d=\"M17.41 7.96l-1.37-1.37c-.4-.4-.92-.59-1.43-.59-.52 0-1.04.2-1.43.59L10.3 9.45l-7.72 7.72c-.78.78-.78 2.05 0 2.83L4 21.41c.39.39.9.59 1.41.59.51 0 1.02-.2 1.41-.59l7.78-7.78 2.81-2.81c.8-.78.8-2.07 0-2.86zM5.41 20L4 18.59l7.72-7.72 1.47 1.35L5.41 20z\"/>\n",
              "  </svg>\n",
              "      </button>\n",
              "      \n",
              "  <style>\n",
              "    .colab-df-container {\n",
              "      display:flex;\n",
              "      flex-wrap:wrap;\n",
              "      gap: 12px;\n",
              "    }\n",
              "\n",
              "    .colab-df-convert {\n",
              "      background-color: #E8F0FE;\n",
              "      border: none;\n",
              "      border-radius: 50%;\n",
              "      cursor: pointer;\n",
              "      display: none;\n",
              "      fill: #1967D2;\n",
              "      height: 32px;\n",
              "      padding: 0 0 0 0;\n",
              "      width: 32px;\n",
              "    }\n",
              "\n",
              "    .colab-df-convert:hover {\n",
              "      background-color: #E2EBFA;\n",
              "      box-shadow: 0px 1px 2px rgba(60, 64, 67, 0.3), 0px 1px 3px 1px rgba(60, 64, 67, 0.15);\n",
              "      fill: #174EA6;\n",
              "    }\n",
              "\n",
              "    [theme=dark] .colab-df-convert {\n",
              "      background-color: #3B4455;\n",
              "      fill: #D2E3FC;\n",
              "    }\n",
              "\n",
              "    [theme=dark] .colab-df-convert:hover {\n",
              "      background-color: #434B5C;\n",
              "      box-shadow: 0px 1px 3px 1px rgba(0, 0, 0, 0.15);\n",
              "      filter: drop-shadow(0px 1px 2px rgba(0, 0, 0, 0.3));\n",
              "      fill: #FFFFFF;\n",
              "    }\n",
              "  </style>\n",
              "\n",
              "      <script>\n",
              "        const buttonEl =\n",
              "          document.querySelector('#df-fad371af-0485-45b2-b58e-e91268719572 button.colab-df-convert');\n",
              "        buttonEl.style.display =\n",
              "          google.colab.kernel.accessAllowed ? 'block' : 'none';\n",
              "\n",
              "        async function convertToInteractive(key) {\n",
              "          const element = document.querySelector('#df-fad371af-0485-45b2-b58e-e91268719572');\n",
              "          const dataTable =\n",
              "            await google.colab.kernel.invokeFunction('convertToInteractive',\n",
              "                                                     [key], {});\n",
              "          if (!dataTable) return;\n",
              "\n",
              "          const docLinkHtml = 'Like what you see? Visit the ' +\n",
              "            '<a target=\"_blank\" href=https://colab.research.google.com/notebooks/data_table.ipynb>data table notebook</a>'\n",
              "            + ' to learn more about interactive tables.';\n",
              "          element.innerHTML = '';\n",
              "          dataTable['output_type'] = 'display_data';\n",
              "          await google.colab.output.renderOutput(dataTable, element);\n",
              "          const docLink = document.createElement('div');\n",
              "          docLink.innerHTML = docLinkHtml;\n",
              "          element.appendChild(docLink);\n",
              "        }\n",
              "      </script>\n",
              "    </div>\n",
              "  </div>\n",
              "  "
            ]
          },
          "metadata": {},
          "execution_count": 3
        }
      ],
      "source": [
        "google_stock_data = pd.read_csv('../GOOG.csv')\n",
        "google_stock_data.head()"
      ]
    },
    {
      "cell_type": "code",
      "execution_count": null,
      "metadata": {
        "id": "rD5muzWA2cBd",
        "outputId": "8f2d466a-eeb3-4b4b-95a8-0f0d20059254",
        "colab": {
          "base_uri": "https://localhost:8080/"
        }
      },
      "outputs": [
        {
          "output_type": "stream",
          "name": "stdout",
          "text": [
            "<class 'pandas.core.frame.DataFrame'>\n",
            "RangeIndex: 1258 entries, 0 to 1257\n",
            "Data columns (total 14 columns):\n",
            " #   Column       Non-Null Count  Dtype  \n",
            "---  ------       --------------  -----  \n",
            " 0   symbol       1258 non-null   object \n",
            " 1   date         1258 non-null   object \n",
            " 2   close        1258 non-null   float64\n",
            " 3   high         1258 non-null   float64\n",
            " 4   low          1258 non-null   float64\n",
            " 5   open         1258 non-null   float64\n",
            " 6   volume       1258 non-null   int64  \n",
            " 7   adjClose     1258 non-null   float64\n",
            " 8   adjHigh      1258 non-null   float64\n",
            " 9   adjLow       1258 non-null   float64\n",
            " 10  adjOpen      1258 non-null   float64\n",
            " 11  adjVolume    1258 non-null   int64  \n",
            " 12  divCash      1258 non-null   float64\n",
            " 13  splitFactor  1258 non-null   float64\n",
            "dtypes: float64(10), int64(2), object(2)\n",
            "memory usage: 137.7+ KB\n"
          ]
        }
      ],
      "source": [
        "google_stock_data.info()"
      ]
    },
    {
      "cell_type": "code",
      "execution_count": null,
      "metadata": {
        "id": "KHpBg4KNnYJB",
        "outputId": "8056926c-7c28-4753-b18e-fea379de7fe0",
        "colab": {
          "base_uri": "https://localhost:8080/",
          "height": 238
        }
      },
      "outputs": [
        {
          "output_type": "execute_result",
          "data": {
            "text/plain": [
              "              open   close\n",
              "date                      \n",
              "2016-06-14  716.48  718.27\n",
              "2016-06-15  719.00  718.92\n",
              "2016-06-16  714.91  710.36\n",
              "2016-06-17  708.65  691.72\n",
              "2016-06-20  698.77  693.71"
            ],
            "text/html": [
              "\n",
              "  <div id=\"df-aab01fc5-5d4c-4e54-a279-9d4ac38dd6dd\">\n",
              "    <div class=\"colab-df-container\">\n",
              "      <div>\n",
              "<style scoped>\n",
              "    .dataframe tbody tr th:only-of-type {\n",
              "        vertical-align: middle;\n",
              "    }\n",
              "\n",
              "    .dataframe tbody tr th {\n",
              "        vertical-align: top;\n",
              "    }\n",
              "\n",
              "    .dataframe thead th {\n",
              "        text-align: right;\n",
              "    }\n",
              "</style>\n",
              "<table border=\"1\" class=\"dataframe\">\n",
              "  <thead>\n",
              "    <tr style=\"text-align: right;\">\n",
              "      <th></th>\n",
              "      <th>open</th>\n",
              "      <th>close</th>\n",
              "    </tr>\n",
              "    <tr>\n",
              "      <th>date</th>\n",
              "      <th></th>\n",
              "      <th></th>\n",
              "    </tr>\n",
              "  </thead>\n",
              "  <tbody>\n",
              "    <tr>\n",
              "      <th>2016-06-14</th>\n",
              "      <td>716.48</td>\n",
              "      <td>718.27</td>\n",
              "    </tr>\n",
              "    <tr>\n",
              "      <th>2016-06-15</th>\n",
              "      <td>719.00</td>\n",
              "      <td>718.92</td>\n",
              "    </tr>\n",
              "    <tr>\n",
              "      <th>2016-06-16</th>\n",
              "      <td>714.91</td>\n",
              "      <td>710.36</td>\n",
              "    </tr>\n",
              "    <tr>\n",
              "      <th>2016-06-17</th>\n",
              "      <td>708.65</td>\n",
              "      <td>691.72</td>\n",
              "    </tr>\n",
              "    <tr>\n",
              "      <th>2016-06-20</th>\n",
              "      <td>698.77</td>\n",
              "      <td>693.71</td>\n",
              "    </tr>\n",
              "  </tbody>\n",
              "</table>\n",
              "</div>\n",
              "      <button class=\"colab-df-convert\" onclick=\"convertToInteractive('df-aab01fc5-5d4c-4e54-a279-9d4ac38dd6dd')\"\n",
              "              title=\"Convert this dataframe to an interactive table.\"\n",
              "              style=\"display:none;\">\n",
              "        \n",
              "  <svg xmlns=\"http://www.w3.org/2000/svg\" height=\"24px\"viewBox=\"0 0 24 24\"\n",
              "       width=\"24px\">\n",
              "    <path d=\"M0 0h24v24H0V0z\" fill=\"none\"/>\n",
              "    <path d=\"M18.56 5.44l.94 2.06.94-2.06 2.06-.94-2.06-.94-.94-2.06-.94 2.06-2.06.94zm-11 1L8.5 8.5l.94-2.06 2.06-.94-2.06-.94L8.5 2.5l-.94 2.06-2.06.94zm10 10l.94 2.06.94-2.06 2.06-.94-2.06-.94-.94-2.06-.94 2.06-2.06.94z\"/><path d=\"M17.41 7.96l-1.37-1.37c-.4-.4-.92-.59-1.43-.59-.52 0-1.04.2-1.43.59L10.3 9.45l-7.72 7.72c-.78.78-.78 2.05 0 2.83L4 21.41c.39.39.9.59 1.41.59.51 0 1.02-.2 1.41-.59l7.78-7.78 2.81-2.81c.8-.78.8-2.07 0-2.86zM5.41 20L4 18.59l7.72-7.72 1.47 1.35L5.41 20z\"/>\n",
              "  </svg>\n",
              "      </button>\n",
              "      \n",
              "  <style>\n",
              "    .colab-df-container {\n",
              "      display:flex;\n",
              "      flex-wrap:wrap;\n",
              "      gap: 12px;\n",
              "    }\n",
              "\n",
              "    .colab-df-convert {\n",
              "      background-color: #E8F0FE;\n",
              "      border: none;\n",
              "      border-radius: 50%;\n",
              "      cursor: pointer;\n",
              "      display: none;\n",
              "      fill: #1967D2;\n",
              "      height: 32px;\n",
              "      padding: 0 0 0 0;\n",
              "      width: 32px;\n",
              "    }\n",
              "\n",
              "    .colab-df-convert:hover {\n",
              "      background-color: #E2EBFA;\n",
              "      box-shadow: 0px 1px 2px rgba(60, 64, 67, 0.3), 0px 1px 3px 1px rgba(60, 64, 67, 0.15);\n",
              "      fill: #174EA6;\n",
              "    }\n",
              "\n",
              "    [theme=dark] .colab-df-convert {\n",
              "      background-color: #3B4455;\n",
              "      fill: #D2E3FC;\n",
              "    }\n",
              "\n",
              "    [theme=dark] .colab-df-convert:hover {\n",
              "      background-color: #434B5C;\n",
              "      box-shadow: 0px 1px 3px 1px rgba(0, 0, 0, 0.15);\n",
              "      filter: drop-shadow(0px 1px 2px rgba(0, 0, 0, 0.3));\n",
              "      fill: #FFFFFF;\n",
              "    }\n",
              "  </style>\n",
              "\n",
              "      <script>\n",
              "        const buttonEl =\n",
              "          document.querySelector('#df-aab01fc5-5d4c-4e54-a279-9d4ac38dd6dd button.colab-df-convert');\n",
              "        buttonEl.style.display =\n",
              "          google.colab.kernel.accessAllowed ? 'block' : 'none';\n",
              "\n",
              "        async function convertToInteractive(key) {\n",
              "          const element = document.querySelector('#df-aab01fc5-5d4c-4e54-a279-9d4ac38dd6dd');\n",
              "          const dataTable =\n",
              "            await google.colab.kernel.invokeFunction('convertToInteractive',\n",
              "                                                     [key], {});\n",
              "          if (!dataTable) return;\n",
              "\n",
              "          const docLinkHtml = 'Like what you see? Visit the ' +\n",
              "            '<a target=\"_blank\" href=https://colab.research.google.com/notebooks/data_table.ipynb>data table notebook</a>'\n",
              "            + ' to learn more about interactive tables.';\n",
              "          element.innerHTML = '';\n",
              "          dataTable['output_type'] = 'display_data';\n",
              "          await google.colab.output.renderOutput(dataTable, element);\n",
              "          const docLink = document.createElement('div');\n",
              "          docLink.innerHTML = docLinkHtml;\n",
              "          element.appendChild(docLink);\n",
              "        }\n",
              "      </script>\n",
              "    </div>\n",
              "  </div>\n",
              "  "
            ]
          },
          "metadata": {},
          "execution_count": 5
        }
      ],
      "source": [
        "google_stock_data = google_stock_data[['date','open','close']] # Extracting required columns\n",
        "google_stock_data['date'] = pd.to_datetime(google_stock_data['date'].apply(lambda x: x.split()[0])) # Selecting only date\n",
        "google_stock_data.set_index('date',drop=True,inplace=True) # Setting date column as index\n",
        "google_stock_data.head()"
      ]
    },
    {
      "cell_type": "code",
      "execution_count": null,
      "metadata": {
        "_kg_hide-input": true,
        "id": "17mfyZrq2cE9",
        "outputId": "375ae97e-86f8-48c3-f92a-0a7ac4890da4",
        "colab": {
          "base_uri": "https://localhost:8080/",
          "height": 447
        }
      },
      "outputs": [
        {
          "output_type": "display_data",
          "data": {
            "text/plain": [
              "<Figure size 1440x504 with 2 Axes>"
            ],
            "image/png": "[encoded data removed]"
          },
          "metadata": {
            "needs_background": "light"
          }
        }
      ],
      "source": [
        "fg, ax =plt.subplots(1,2,figsize=(20,7))\n",
        "ax[0].plot(google_stock_data['open'],label='Open',color='green')\n",
        "ax[0].set_xlabel('Date',size=15)\n",
        "ax[0].set_ylabel('Price',size=15)\n",
        "ax[0].legend()\n",
        "\n",
        "ax[1].plot(google_stock_data['close'],label='Close',color='red')\n",
        "ax[1].set_xlabel('Date',size=15)\n",
        "ax[1].set_ylabel('Price',size=15)\n",
        "ax[1].legend()\n",
        "\n",
        "fg.show()"
      ]
    },
    {
      "cell_type": "markdown",
      "metadata": {
        "id": "PTYHF02Y6B1m"
      },
      "source": [
        "# Data Pre-Processing"
      ]
    },
    {
      "cell_type": "code",
      "execution_count": null,
      "metadata": {
        "id": "XgHWQ2SK2cH4"
      },
      "outputs": [],
      "source": [
        "from sklearn.preprocessing import MinMaxScaler\n",
        "MMS = MinMaxScaler()\n",
        "google_stock_data[google_stock_data.columns] = MMS.fit_transform(google_stock_data)"
      ]
    },
    {
      "cell_type": "code",
      "execution_count": null,
      "metadata": {
        "id": "vUhYPfaR2cP0",
        "outputId": "2ddbc0b7-e6ee-44a6-daf3-e63d83fdb1cb",
        "colab": {
          "base_uri": "https://localhost:8080/"
        }
      },
      "outputs": [
        {
          "output_type": "execute_result",
          "data": {
            "text/plain": [
              "(1258, 2)"
            ]
          },
          "metadata": {},
          "execution_count": 8
        }
      ],
      "source": [
        "google_stock_data.shape"
      ]
    },
    {
      "cell_type": "code",
      "execution_count": null,
      "metadata": {
        "id": "o4shudsl2cS3",
        "outputId": "80c2374e-b1fb-44ea-b038-5c62b24a43f8",
        "colab": {
          "base_uri": "https://localhost:8080/"
        }
      },
      "outputs": [
        {
          "output_type": "execute_result",
          "data": {
            "text/plain": [
              "1006"
            ]
          },
          "metadata": {},
          "execution_count": 9
        }
      ],
      "source": [
        "training_size = round(len(google_stock_data) * 0.80) # Selecting 80 % for training and 20 % for testing\n",
        "training_size"
      ]
    },
    {
      "cell_type": "code",
      "execution_count": null,
      "metadata": {
        "id": "XWI_TMQC2cWB",
        "outputId": "f720a63d-8b6d-446b-fc6c-d54f2e30ae99",
        "colab": {
          "base_uri": "https://localhost:8080/"
        }
      },
      "outputs": [
        {
          "output_type": "execute_result",
          "data": {
            "text/plain": [
              "((1006, 2), (252, 2))"
            ]
          },
          "metadata": {},
          "execution_count": 10
        }
      ],
      "source": [
        "train_data = google_stock_data[:training_size]\n",
        "test_data  = google_stock_data[training_size:]\n",
        "\n",
        "train_data.shape, test_data.shape"
      ]
    },
    {
      "cell_type": "code",
      "execution_count": null,
      "metadata": {
        "id": "CqpXvPeD7zUY"
      },
      "outputs": [],
      "source": [
        "# Function to create sequence of data for training and testing\n",
        "\n",
        "def create_sequence(dataset):\n",
        "  sequences = []\n",
        "  labels = []\n",
        "\n",
        "  start_idx = 0\n",
        "\n",
        "  for stop_idx in range(50,len(dataset)): # Selecting 50 rows at a time\n",
        "    sequences.append(dataset.iloc[start_idx:stop_idx])\n",
        "    labels.append(dataset.iloc[stop_idx])\n",
        "    start_idx += 1\n",
        "  return (np.array(sequences),np.array(labels))\n"
      ]
    },
    {
      "cell_type": "code",
      "execution_count": null,
      "metadata": {
        "id": "xqkyw0e-7zW3"
      },
      "outputs": [],
      "source": [
        "train_seq, train_label = create_sequence(train_data)\n",
        "test_seq, test_label = create_sequence(test_data)"
      ]
    },
    {
      "cell_type": "code",
      "execution_count": null,
      "metadata": {
        "id": "ZpsCI6jf_oC2",
        "outputId": "af14f1fa-9417-405d-9979-6613fcf00a17",
        "colab": {
          "base_uri": "https://localhost:8080/"
        }
      },
      "outputs": [
        {
          "output_type": "execute_result",
          "data": {
            "text/plain": [
              "((956, 50, 2), (956, 2), (202, 50, 2), (202, 2))"
            ]
          },
          "metadata": {},
          "execution_count": 13
        }
      ],
      "source": [
        "train_seq.shape, train_label.shape, test_seq.shape, test_label.shape"
      ]
    },
    {
      "cell_type": "markdown",
      "metadata": {
        "id": "lbRE8i0Y6GGL"
      },
      "source": [
        "# Creating LSTM model"
      ]
    },
    {
      "cell_type": "code",
      "execution_count": null,
      "metadata": {
        "id": "etmB-Lbd7zZa"
      },
      "outputs": [],
      "source": [
        "from keras.models import Sequential\n",
        "from keras.layers import Dense, Dropout, LSTM, Bidirectional"
      ]
    },
    {
      "cell_type": "code",
      "execution_count": null,
      "metadata": {
        "id": "FntEHOeG7zcE",
        "outputId": "074ef140-90e4-4dad-ccec-42b218719c50",
        "colab": {
          "base_uri": "https://localhost:8080/"
        }
      },
      "outputs": [
        {
          "output_type": "stream",
          "name": "stdout",
          "text": [
            "Model: \"sequential_4\"\n",
            "_________________________________________________________________\n",
            " Layer (type)                Output Shape              Param #   \n",
            "=================================================================\n",
            " lstm_8 (LSTM)               (None, 50, 50)            10600     \n",
            "                                                                 \n",
            " dropout_4 (Dropout)         (None, 50, 50)            0         \n",
            "                                                                 \n",
            " lstm_9 (LSTM)               (None, 50)                20200     \n",
            "                                                                 \n",
            " dense_4 (Dense)             (None, 2)                 102       \n",
            "                                                                 \n",
            "=================================================================\n",
            "Total params: 30,902\n",
            "Trainable params: 30,902\n",
            "Non-trainable params: 0\n",
            "_________________________________________________________________\n"
          ]
        }
      ],
      "source": [
        "model = Sequential()\n",
        "model.add(LSTM(units=50, return_sequences=True, input_shape = (train_seq.shape[1], train_seq.shape[2])))\n",
        "\n",
        "model.add(Dropout(0.1)) \n",
        "model.add(LSTM(units=50))\n",
        "\n",
        "model.add(Dense(2))\n",
        "\n",
        "model.compile(loss='mean_squared_error', optimizer='adam', metrics=['mean_absolute_error'])\n",
        "\n",
        "model.summary()"
      ]
    },
    {
      "cell_type": "code",
      "execution_count": null,
      "metadata": {
        "_kg_hide-output": true,
        "id": "5sFY8gn97zeC",
        "outputId": "c8824b48-aea2-4ebc-843d-e25465fb7158",
        "colab": {
          "base_uri": "https://localhost:8080/"
        }
      },
      "outputs": [
        {
          "output_type": "stream",
          "name": "stdout",
          "text": [
            "Epoch 1/80\n",
            "30/30 [==============================] - 64s 78ms/step - loss: 0.0038 - mean_absolute_error: 0.0435 - val_loss: 0.0176 - val_mean_absolute_error: 0.1146\n",
            "Epoch 2/80\n",
            "30/30 [==============================] - 2s 50ms/step - loss: 6.4699e-04 - mean_absolute_error: 0.0187 - val_loss: 0.0042 - val_mean_absolute_error: 0.0520\n",
            "Epoch 3/80\n",
            "30/30 [==============================] - 2s 51ms/step - loss: 5.5131e-04 - mean_absolute_error: 0.0167 - val_loss: 0.0062 - val_mean_absolute_error: 0.0650\n",
            "Epoch 4/80\n",
            "30/30 [==============================] - 1s 49ms/step - loss: 5.2693e-04 - mean_absolute_error: 0.0163 - val_loss: 0.0068 - val_mean_absolute_error: 0.0693\n",
            "Epoch 5/80\n",
            "30/30 [==============================] - 1s 47ms/step - loss: 5.0090e-04 - mean_absolute_error: 0.0159 - val_loss: 0.0039 - val_mean_absolute_error: 0.0504\n",
            "Epoch 6/80\n",
            "30/30 [==============================] - 2s 50ms/step - loss: 4.8461e-04 - mean_absolute_error: 0.0159 - val_loss: 0.0037 - val_mean_absolute_error: 0.0490\n",
            "Epoch 7/80\n",
            "30/30 [==============================] - 2s 51ms/step - loss: 4.6912e-04 - mean_absolute_error: 0.0152 - val_loss: 0.0027 - val_mean_absolute_error: 0.0411\n",
            "Epoch 8/80\n",
            "30/30 [==============================] - 2s 52ms/step - loss: 4.6277e-04 - mean_absolute_error: 0.0155 - val_loss: 0.0022 - val_mean_absolute_error: 0.0373\n",
            "Epoch 9/80\n",
            "30/30 [==============================] - 1s 48ms/step - loss: 4.4451e-04 - mean_absolute_error: 0.0149 - val_loss: 0.0036 - val_mean_absolute_error: 0.0497\n",
            "Epoch 10/80\n",
            "30/30 [==============================] - 2s 52ms/step - loss: 4.3963e-04 - mean_absolute_error: 0.0153 - val_loss: 0.0018 - val_mean_absolute_error: 0.0333\n",
            "Epoch 11/80\n",
            "30/30 [==============================] - 1s 50ms/step - loss: 4.3521e-04 - mean_absolute_error: 0.0152 - val_loss: 0.0014 - val_mean_absolute_error: 0.0297\n",
            "Epoch 12/80\n",
            "30/30 [==============================] - 2s 51ms/step - loss: 3.5629e-04 - mean_absolute_error: 0.0136 - val_loss: 0.0025 - val_mean_absolute_error: 0.0397\n",
            "Epoch 13/80\n",
            "30/30 [==============================] - 1s 49ms/step - loss: 3.7241e-04 - mean_absolute_error: 0.0140 - val_loss: 0.0026 - val_mean_absolute_error: 0.0410\n",
            "Epoch 14/80\n",
            "30/30 [==============================] - 1s 50ms/step - loss: 3.1938e-04 - mean_absolute_error: 0.0129 - val_loss: 0.0039 - val_mean_absolute_error: 0.0522\n",
            "Epoch 15/80\n",
            "30/30 [==============================] - 1s 50ms/step - loss: 3.4499e-04 - mean_absolute_error: 0.0134 - val_loss: 0.0021 - val_mean_absolute_error: 0.0360\n",
            "Epoch 16/80\n",
            "30/30 [==============================] - 2s 50ms/step - loss: 3.4980e-04 - mean_absolute_error: 0.0137 - val_loss: 0.0024 - val_mean_absolute_error: 0.0391\n",
            "Epoch 17/80\n",
            "30/30 [==============================] - 1s 47ms/step - loss: 2.9139e-04 - mean_absolute_error: 0.0124 - val_loss: 0.0039 - val_mean_absolute_error: 0.0510\n",
            "Epoch 18/80\n",
            "30/30 [==============================] - 1s 46ms/step - loss: 3.5438e-04 - mean_absolute_error: 0.0139 - val_loss: 0.0067 - val_mean_absolute_error: 0.0696\n",
            "Epoch 19/80\n",
            "30/30 [==============================] - 1s 46ms/step - loss: 3.4989e-04 - mean_absolute_error: 0.0137 - val_loss: 0.0042 - val_mean_absolute_error: 0.0536\n",
            "Epoch 20/80\n",
            "30/30 [==============================] - 1s 46ms/step - loss: 2.9395e-04 - mean_absolute_error: 0.0127 - val_loss: 0.0048 - val_mean_absolute_error: 0.0572\n",
            "Epoch 21/80\n",
            "30/30 [==============================] - 1s 45ms/step - loss: 2.7214e-04 - mean_absolute_error: 0.0120 - val_loss: 0.0036 - val_mean_absolute_error: 0.0485\n",
            "Epoch 22/80\n",
            "30/30 [==============================] - 1s 46ms/step - loss: 2.9155e-04 - mean_absolute_error: 0.0126 - val_loss: 0.0033 - val_mean_absolute_error: 0.0455\n",
            "Epoch 23/80\n",
            "30/30 [==============================] - 2s 51ms/step - loss: 3.2338e-04 - mean_absolute_error: 0.0135 - val_loss: 0.0017 - val_mean_absolute_error: 0.0312\n",
            "Epoch 24/80\n",
            "30/30 [==============================] - 1s 45ms/step - loss: 2.7705e-04 - mean_absolute_error: 0.0122 - val_loss: 0.0030 - val_mean_absolute_error: 0.0432\n",
            "Epoch 25/80\n",
            "30/30 [==============================] - 1s 45ms/step - loss: 2.6266e-04 - mean_absolute_error: 0.0120 - val_loss: 0.0021 - val_mean_absolute_error: 0.0356\n",
            "Epoch 26/80\n",
            "30/30 [==============================] - 2s 53ms/step - loss: 2.7075e-04 - mean_absolute_error: 0.0119 - val_loss: 0.0032 - val_mean_absolute_error: 0.0450\n",
            "Epoch 27/80\n",
            "30/30 [==============================] - 2s 79ms/step - loss: 2.5730e-04 - mean_absolute_error: 0.0118 - val_loss: 0.0022 - val_mean_absolute_error: 0.0362\n",
            "Epoch 28/80\n",
            "30/30 [==============================] - 2s 51ms/step - loss: 2.4800e-04 - mean_absolute_error: 0.0115 - val_loss: 0.0028 - val_mean_absolute_error: 0.0413\n",
            "Epoch 29/80\n",
            "30/30 [==============================] - 2s 50ms/step - loss: 2.5939e-04 - mean_absolute_error: 0.0118 - val_loss: 0.0031 - val_mean_absolute_error: 0.0437\n",
            "Epoch 30/80\n",
            "30/30 [==============================] - 2s 50ms/step - loss: 3.3448e-04 - mean_absolute_error: 0.0138 - val_loss: 0.0040 - val_mean_absolute_error: 0.0525\n",
            "Epoch 31/80\n",
            "30/30 [==============================] - 2s 54ms/step - loss: 2.9016e-04 - mean_absolute_error: 0.0125 - val_loss: 0.0041 - val_mean_absolute_error: 0.0531\n",
            "Epoch 32/80\n",
            "30/30 [==============================] - 2s 56ms/step - loss: 2.5284e-04 - mean_absolute_error: 0.0119 - val_loss: 0.0026 - val_mean_absolute_error: 0.0400\n",
            "Epoch 33/80\n",
            "30/30 [==============================] - 2s 51ms/step - loss: 2.3588e-04 - mean_absolute_error: 0.0111 - val_loss: 0.0033 - val_mean_absolute_error: 0.0473\n",
            "Epoch 34/80\n",
            "30/30 [==============================] - 1s 48ms/step - loss: 2.4131e-04 - mean_absolute_error: 0.0113 - val_loss: 0.0035 - val_mean_absolute_error: 0.0489\n",
            "Epoch 35/80\n",
            "30/30 [==============================] - 2s 53ms/step - loss: 2.3649e-04 - mean_absolute_error: 0.0112 - val_loss: 0.0045 - val_mean_absolute_error: 0.0568\n",
            "Epoch 36/80\n",
            "30/30 [==============================] - 1s 47ms/step - loss: 2.4489e-04 - mean_absolute_error: 0.0113 - val_loss: 0.0015 - val_mean_absolute_error: 0.0293\n",
            "Epoch 37/80\n",
            "30/30 [==============================] - 1s 50ms/step - loss: 2.7081e-04 - mean_absolute_error: 0.0121 - val_loss: 0.0026 - val_mean_absolute_error: 0.0400\n",
            "Epoch 38/80\n",
            "30/30 [==============================] - 1s 50ms/step - loss: 2.1203e-04 - mean_absolute_error: 0.0107 - val_loss: 0.0038 - val_mean_absolute_error: 0.0508\n",
            "Epoch 39/80\n",
            "30/30 [==============================] - 1s 48ms/step - loss: 2.2281e-04 - mean_absolute_error: 0.0109 - val_loss: 0.0024 - val_mean_absolute_error: 0.0386\n",
            "Epoch 40/80\n",
            "30/30 [==============================] - 1s 48ms/step - loss: 2.1499e-04 - mean_absolute_error: 0.0107 - val_loss: 0.0021 - val_mean_absolute_error: 0.0360\n",
            "Epoch 41/80\n",
            "30/30 [==============================] - 1s 50ms/step - loss: 1.9245e-04 - mean_absolute_error: 0.0100 - val_loss: 0.0033 - val_mean_absolute_error: 0.0471\n",
            "Epoch 42/80\n",
            "30/30 [==============================] - 2s 51ms/step - loss: 2.0399e-04 - mean_absolute_error: 0.0104 - val_loss: 0.0028 - val_mean_absolute_error: 0.0425\n",
            "Epoch 43/80\n",
            "30/30 [==============================] - 2s 51ms/step - loss: 2.0695e-04 - mean_absolute_error: 0.0105 - val_loss: 0.0022 - val_mean_absolute_error: 0.0369\n",
            "Epoch 44/80\n",
            "30/30 [==============================] - 1s 48ms/step - loss: 2.3159e-04 - mean_absolute_error: 0.0111 - val_loss: 0.0025 - val_mean_absolute_error: 0.0404\n",
            "Epoch 45/80\n",
            "30/30 [==============================] - 1s 50ms/step - loss: 2.1216e-04 - mean_absolute_error: 0.0108 - val_loss: 0.0029 - val_mean_absolute_error: 0.0447\n",
            "Epoch 46/80\n",
            "30/30 [==============================] - 1s 49ms/step - loss: 2.2885e-04 - mean_absolute_error: 0.0111 - val_loss: 0.0029 - val_mean_absolute_error: 0.0459\n",
            "Epoch 47/80\n",
            "30/30 [==============================] - 2s 50ms/step - loss: 2.1465e-04 - mean_absolute_error: 0.0107 - val_loss: 0.0026 - val_mean_absolute_error: 0.0421\n",
            "Epoch 48/80\n",
            "30/30 [==============================] - 2s 51ms/step - loss: 1.9253e-04 - mean_absolute_error: 0.0101 - val_loss: 0.0018 - val_mean_absolute_error: 0.0336\n",
            "Epoch 49/80\n",
            "30/30 [==============================] - 2s 50ms/step - loss: 2.0415e-04 - mean_absolute_error: 0.0105 - val_loss: 0.0030 - val_mean_absolute_error: 0.0456\n",
            "Epoch 50/80\n",
            "30/30 [==============================] - 1s 48ms/step - loss: 1.9474e-04 - mean_absolute_error: 0.0101 - val_loss: 0.0040 - val_mean_absolute_error: 0.0536\n",
            "Epoch 51/80\n",
            "30/30 [==============================] - 2s 53ms/step - loss: 1.8443e-04 - mean_absolute_error: 0.0099 - val_loss: 0.0013 - val_mean_absolute_error: 0.0279\n",
            "Epoch 52/80\n",
            "30/30 [==============================] - 2s 53ms/step - loss: 1.8287e-04 - mean_absolute_error: 0.0097 - val_loss: 9.1466e-04 - val_mean_absolute_error: 0.0230\n",
            "Epoch 53/80\n",
            "30/30 [==============================] - 2s 50ms/step - loss: 1.8166e-04 - mean_absolute_error: 0.0098 - val_loss: 0.0011 - val_mean_absolute_error: 0.0261\n",
            "Epoch 54/80\n",
            "30/30 [==============================] - 1s 47ms/step - loss: 1.8006e-04 - mean_absolute_error: 0.0097 - val_loss: 0.0024 - val_mean_absolute_error: 0.0406\n",
            "Epoch 55/80\n",
            "30/30 [==============================] - 2s 50ms/step - loss: 1.8414e-04 - mean_absolute_error: 0.0098 - val_loss: 0.0020 - val_mean_absolute_error: 0.0364\n",
            "Epoch 56/80\n",
            "30/30 [==============================] - 1s 50ms/step - loss: 1.6275e-04 - mean_absolute_error: 0.0093 - val_loss: 0.0027 - val_mean_absolute_error: 0.0427\n",
            "Epoch 57/80\n",
            "30/30 [==============================] - 2s 50ms/step - loss: 1.6861e-04 - mean_absolute_error: 0.0092 - val_loss: 0.0017 - val_mean_absolute_error: 0.0326\n",
            "Epoch 58/80\n",
            "30/30 [==============================] - 1s 50ms/step - loss: 1.6223e-04 - mean_absolute_error: 0.0092 - val_loss: 0.0035 - val_mean_absolute_error: 0.0505\n",
            "Epoch 59/80\n",
            "30/30 [==============================] - 1s 49ms/step - loss: 1.9386e-04 - mean_absolute_error: 0.0102 - val_loss: 0.0016 - val_mean_absolute_error: 0.0316\n",
            "Epoch 60/80\n",
            "30/30 [==============================] - 1s 47ms/step - loss: 1.5169e-04 - mean_absolute_error: 0.0089 - val_loss: 0.0022 - val_mean_absolute_error: 0.0373\n",
            "Epoch 61/80\n",
            "30/30 [==============================] - 1s 46ms/step - loss: 1.6530e-04 - mean_absolute_error: 0.0094 - val_loss: 0.0024 - val_mean_absolute_error: 0.0396\n",
            "Epoch 62/80\n",
            "30/30 [==============================] - 1s 46ms/step - loss: 1.5598e-04 - mean_absolute_error: 0.0089 - val_loss: 0.0022 - val_mean_absolute_error: 0.0377\n",
            "Epoch 63/80\n",
            "30/30 [==============================] - 2s 50ms/step - loss: 1.7444e-04 - mean_absolute_error: 0.0095 - val_loss: 0.0014 - val_mean_absolute_error: 0.0290\n",
            "Epoch 64/80\n",
            "30/30 [==============================] - 1s 48ms/step - loss: 1.5591e-04 - mean_absolute_error: 0.0091 - val_loss: 0.0029 - val_mean_absolute_error: 0.0446\n",
            "Epoch 65/80\n",
            "30/30 [==============================] - 1s 46ms/step - loss: 1.5521e-04 - mean_absolute_error: 0.0090 - val_loss: 0.0017 - val_mean_absolute_error: 0.0316\n",
            "Epoch 66/80\n",
            "30/30 [==============================] - 2s 51ms/step - loss: 1.5423e-04 - mean_absolute_error: 0.0089 - val_loss: 0.0027 - val_mean_absolute_error: 0.0423\n",
            "Epoch 67/80\n",
            "30/30 [==============================] - 2s 54ms/step - loss: 1.7142e-04 - mean_absolute_error: 0.0095 - val_loss: 0.0010 - val_mean_absolute_error: 0.0242\n",
            "Epoch 68/80\n",
            "30/30 [==============================] - 2s 51ms/step - loss: 1.4083e-04 - mean_absolute_error: 0.0086 - val_loss: 0.0016 - val_mean_absolute_error: 0.0304\n",
            "Epoch 69/80\n",
            "30/30 [==============================] - 2s 52ms/step - loss: 1.3941e-04 - mean_absolute_error: 0.0085 - val_loss: 0.0014 - val_mean_absolute_error: 0.0283\n",
            "Epoch 70/80\n",
            "30/30 [==============================] - 1s 48ms/step - loss: 1.4894e-04 - mean_absolute_error: 0.0090 - val_loss: 0.0031 - val_mean_absolute_error: 0.0452\n",
            "Epoch 71/80\n",
            "30/30 [==============================] - 2s 51ms/step - loss: 1.5320e-04 - mean_absolute_error: 0.0089 - val_loss: 0.0043 - val_mean_absolute_error: 0.0548\n",
            "Epoch 72/80\n",
            "30/30 [==============================] - 1s 49ms/step - loss: 1.5701e-04 - mean_absolute_error: 0.0092 - val_loss: 0.0039 - val_mean_absolute_error: 0.0527\n",
            "Epoch 73/80\n",
            "30/30 [==============================] - 1s 48ms/step - loss: 1.4940e-04 - mean_absolute_error: 0.0087 - val_loss: 0.0020 - val_mean_absolute_error: 0.0358\n",
            "Epoch 74/80\n",
            "30/30 [==============================] - 1s 47ms/step - loss: 1.3710e-04 - mean_absolute_error: 0.0085 - val_loss: 0.0021 - val_mean_absolute_error: 0.0368\n",
            "Epoch 75/80\n",
            "30/30 [==============================] - 2s 51ms/step - loss: 1.3798e-04 - mean_absolute_error: 0.0086 - val_loss: 0.0018 - val_mean_absolute_error: 0.0335\n",
            "Epoch 76/80\n",
            "30/30 [==============================] - 2s 50ms/step - loss: 1.5166e-04 - mean_absolute_error: 0.0090 - val_loss: 0.0013 - val_mean_absolute_error: 0.0279\n",
            "Epoch 77/80\n",
            "30/30 [==============================] - 2s 51ms/step - loss: 1.4193e-04 - mean_absolute_error: 0.0085 - val_loss: 0.0021 - val_mean_absolute_error: 0.0369\n",
            "Epoch 78/80\n",
            "30/30 [==============================] - 1s 46ms/step - loss: 1.3552e-04 - mean_absolute_error: 0.0083 - val_loss: 0.0028 - val_mean_absolute_error: 0.0445\n",
            "Epoch 79/80\n",
            "30/30 [==============================] - 1s 46ms/step - loss: 1.4025e-04 - mean_absolute_error: 0.0084 - val_loss: 0.0021 - val_mean_absolute_error: 0.0361\n",
            "Epoch 80/80\n",
            "30/30 [==============================] - 2s 51ms/step - loss: 1.3414e-04 - mean_absolute_error: 0.0082 - val_loss: 0.0015 - val_mean_absolute_error: 0.0299\n"
          ]
        },
        {
          "output_type": "execute_result",
          "data": {
            "text/plain": [
              "<keras.callbacks.History at 0x7fb38cae53d0>"
            ]
          },
          "metadata": {},
          "execution_count": 42
        }
      ],
      "source": [
        "model.fit(train_seq, train_label, epochs=80,validation_data=(test_seq, test_label), verbose=1)"
      ]
    },
    {
      "cell_type": "code",
      "execution_count": null,
      "metadata": {
        "id": "UPkxNcyo7zgX",
        "outputId": "ddee9066-6c14-4c89-ed57-50797c19ccd0",
        "colab": {
          "base_uri": "https://localhost:8080/"
        }
      },
      "outputs": [
        {
          "output_type": "stream",
          "name": "stdout",
          "text": [
            "7/7 [==============================] - 0s 12ms/step\n"
          ]
        },
        {
          "output_type": "execute_result",
          "data": {
            "text/plain": [
              "array([[0.47264394, 0.47422433],\n",
              "       [0.47956586, 0.48078996],\n",
              "       [0.48884338, 0.4894535 ],\n",
              "       [0.513206  , 0.51162887],\n",
              "       [0.5042317 , 0.50562376]], dtype=float32)"
            ]
          },
          "metadata": {},
          "execution_count": 33
        }
      ],
      "source": [
        "test_predicted = model.predict(test_seq)\n",
        "test_predicted[:5]"
      ]
    },
    {
      "cell_type": "code",
      "execution_count": null,
      "metadata": {
        "id": "DvRmpGcwLPhu",
        "outputId": "dcaea6a7-fdde-4187-d70c-22bdddb5e2ab",
        "colab": {
          "base_uri": "https://localhost:8080/"
        }
      },
      "outputs": [
        {
          "output_type": "execute_result",
          "data": {
            "text/plain": [
              "array([[1577.5265, 1574.4689],\n",
              "       [1589.0306, 1585.5248],\n",
              "       [1599.3813, 1595.9485],\n",
              "       [1630.7094, 1628.5651],\n",
              "       [1648.3497, 1644.6714]], dtype=float32)"
            ]
          },
          "metadata": {},
          "execution_count": 18
        }
      ],
      "source": [
        "test_inverse_predicted = MMS.inverse_transform(test_predicted) # Inversing scaling on predicted data\n",
        "test_inverse_predicted[:5]"
      ]
    },
    {
      "cell_type": "markdown",
      "metadata": {
        "id": "3fX0hFZM61cO"
      },
      "source": [
        "# Visualizing predicted and actual data"
      ]
    },
    {
      "cell_type": "code",
      "execution_count": null,
      "metadata": {
        "id": "7KWDJaXAL8RT"
      },
      "outputs": [],
      "source": [
        "# Merging actual and predicted data for better visualization\n",
        "\n",
        "gs_slic_data = pd.concat([google_stock_data.iloc[-202:].copy(),pd.DataFrame(test_inverse_predicted,columns=['open_predicted','close_predicted'],index=google_stock_data.iloc[-202:].index)], axis=1)"
      ]
    },
    {
      "cell_type": "code",
      "execution_count": null,
      "metadata": {
        "id": "VhQ1_JnJ0oYE"
      },
      "outputs": [],
      "source": [
        "gs_slic_data[['open','close']] = MMS.inverse_transform(gs_slic_data[['open','close']]) # Inverse scaling"
      ]
    },
    {
      "cell_type": "code",
      "execution_count": null,
      "metadata": {
        "id": "M1fsx6gTO3io",
        "outputId": "3f89b10f-4d5e-4268-ead8-8f6813aee4cb",
        "colab": {
          "base_uri": "https://localhost:8080/",
          "height": 238
        }
      },
      "outputs": [
        {
          "output_type": "execute_result",
          "data": {
            "text/plain": [
              "               open    close  open_predicted  close_predicted\n",
              "date                                                         \n",
              "2020-08-24  1593.98  1588.20     1577.526489      1574.468872\n",
              "2020-08-25  1582.07  1608.22     1589.030640      1585.524780\n",
              "2020-08-26  1608.00  1652.38     1599.381348      1595.948486\n",
              "2020-08-27  1653.68  1634.33     1630.709351      1628.565063\n",
              "2020-08-28  1633.49  1644.41     1648.349731      1644.671387"
            ],
            "text/html": [
              "\n",
              "  <div id=\"df-4ec60a28-657b-44c2-a993-aad21dc580e3\">\n",
              "    <div class=\"colab-df-container\">\n",
              "      <div>\n",
              "<style scoped>\n",
              "    .dataframe tbody tr th:only-of-type {\n",
              "        vertical-align: middle;\n",
              "    }\n",
              "\n",
              "    .dataframe tbody tr th {\n",
              "        vertical-align: top;\n",
              "    }\n",
              "\n",
              "    .dataframe thead th {\n",
              "        text-align: right;\n",
              "    }\n",
              "</style>\n",
              "<table border=\"1\" class=\"dataframe\">\n",
              "  <thead>\n",
              "    <tr style=\"text-align: right;\">\n",
              "      <th></th>\n",
              "      <th>open</th>\n",
              "      <th>close</th>\n",
              "      <th>open_predicted</th>\n",
              "      <th>close_predicted</th>\n",
              "    </tr>\n",
              "    <tr>\n",
              "      <th>date</th>\n",
              "      <th></th>\n",
              "      <th></th>\n",
              "      <th></th>\n",
              "      <th></th>\n",
              "    </tr>\n",
              "  </thead>\n",
              "  <tbody>\n",
              "    <tr>\n",
              "      <th>2020-08-24</th>\n",
              "      <td>1593.98</td>\n",
              "      <td>1588.20</td>\n",
              "      <td>1577.526489</td>\n",
              "      <td>1574.468872</td>\n",
              "    </tr>\n",
              "    <tr>\n",
              "      <th>2020-08-25</th>\n",
              "      <td>1582.07</td>\n",
              "      <td>1608.22</td>\n",
              "      <td>1589.030640</td>\n",
              "      <td>1585.524780</td>\n",
              "    </tr>\n",
              "    <tr>\n",
              "      <th>2020-08-26</th>\n",
              "      <td>1608.00</td>\n",
              "      <td>1652.38</td>\n",
              "      <td>1599.381348</td>\n",
              "      <td>1595.948486</td>\n",
              "    </tr>\n",
              "    <tr>\n",
              "      <th>2020-08-27</th>\n",
              "      <td>1653.68</td>\n",
              "      <td>1634.33</td>\n",
              "      <td>1630.709351</td>\n",
              "      <td>1628.565063</td>\n",
              "    </tr>\n",
              "    <tr>\n",
              "      <th>2020-08-28</th>\n",
              "      <td>1633.49</td>\n",
              "      <td>1644.41</td>\n",
              "      <td>1648.349731</td>\n",
              "      <td>1644.671387</td>\n",
              "    </tr>\n",
              "  </tbody>\n",
              "</table>\n",
              "</div>\n",
              "      <button class=\"colab-df-convert\" onclick=\"convertToInteractive('df-4ec60a28-657b-44c2-a993-aad21dc580e3')\"\n",
              "              title=\"Convert this dataframe to an interactive table.\"\n",
              "              style=\"display:none;\">\n",
              "        \n",
              "  <svg xmlns=\"http://www.w3.org/2000/svg\" height=\"24px\"viewBox=\"0 0 24 24\"\n",
              "       width=\"24px\">\n",
              "    <path d=\"M0 0h24v24H0V0z\" fill=\"none\"/>\n",
              "    <path d=\"M18.56 5.44l.94 2.06.94-2.06 2.06-.94-2.06-.94-.94-2.06-.94 2.06-2.06.94zm-11 1L8.5 8.5l.94-2.06 2.06-.94-2.06-.94L8.5 2.5l-.94 2.06-2.06.94zm10 10l.94 2.06.94-2.06 2.06-.94-2.06-.94-.94-2.06-.94 2.06-2.06.94z\"/><path d=\"M17.41 7.96l-1.37-1.37c-.4-.4-.92-.59-1.43-.59-.52 0-1.04.2-1.43.59L10.3 9.45l-7.72 7.72c-.78.78-.78 2.05 0 2.83L4 21.41c.39.39.9.59 1.41.59.51 0 1.02-.2 1.41-.59l7.78-7.78 2.81-2.81c.8-.78.8-2.07 0-2.86zM5.41 20L4 18.59l7.72-7.72 1.47 1.35L5.41 20z\"/>\n",
              "  </svg>\n",
              "      </button>\n",
              "      \n",
              "  <style>\n",
              "    .colab-df-container {\n",
              "      display:flex;\n",
              "      flex-wrap:wrap;\n",
              "      gap: 12px;\n",
              "    }\n",
              "\n",
              "    .colab-df-convert {\n",
              "      background-color: #E8F0FE;\n",
              "      border: none;\n",
              "      border-radius: 50%;\n",
              "      cursor: pointer;\n",
              "      display: none;\n",
              "      fill: #1967D2;\n",
              "      height: 32px;\n",
              "      padding: 0 0 0 0;\n",
              "      width: 32px;\n",
              "    }\n",
              "\n",
              "    .colab-df-convert:hover {\n",
              "      background-color: #E2EBFA;\n",
              "      box-shadow: 0px 1px 2px rgba(60, 64, 67, 0.3), 0px 1px 3px 1px rgba(60, 64, 67, 0.15);\n",
              "      fill: #174EA6;\n",
              "    }\n",
              "\n",
              "    [theme=dark] .colab-df-convert {\n",
              "      background-color: #3B4455;\n",
              "      fill: #D2E3FC;\n",
              "    }\n",
              "\n",
              "    [theme=dark] .colab-df-convert:hover {\n",
              "      background-color: #434B5C;\n",
              "      box-shadow: 0px 1px 3px 1px rgba(0, 0, 0, 0.15);\n",
              "      filter: drop-shadow(0px 1px 2px rgba(0, 0, 0, 0.3));\n",
              "      fill: #FFFFFF;\n",
              "    }\n",
              "  </style>\n",
              "\n",
              "      <script>\n",
              "        const buttonEl =\n",
              "          document.querySelector('#df-4ec60a28-657b-44c2-a993-aad21dc580e3 button.colab-df-convert');\n",
              "        buttonEl.style.display =\n",
              "          google.colab.kernel.accessAllowed ? 'block' : 'none';\n",
              "\n",
              "        async function convertToInteractive(key) {\n",
              "          const element = document.querySelector('#df-4ec60a28-657b-44c2-a993-aad21dc580e3');\n",
              "          const dataTable =\n",
              "            await google.colab.kernel.invokeFunction('convertToInteractive',\n",
              "                                                     [key], {});\n",
              "          if (!dataTable) return;\n",
              "\n",
              "          const docLinkHtml = 'Like what you see? Visit the ' +\n",
              "            '<a target=\"_blank\" href=https://colab.research.google.com/notebooks/data_table.ipynb>data table notebook</a>'\n",
              "            + ' to learn more about interactive tables.';\n",
              "          element.innerHTML = '';\n",
              "          dataTable['output_type'] = 'display_data';\n",
              "          await google.colab.output.renderOutput(dataTable, element);\n",
              "          const docLink = document.createElement('div');\n",
              "          docLink.innerHTML = docLinkHtml;\n",
              "          element.appendChild(docLink);\n",
              "        }\n",
              "      </script>\n",
              "    </div>\n",
              "  </div>\n",
              "  "
            ]
          },
          "metadata": {},
          "execution_count": 21
        }
      ],
      "source": [
        "gs_slic_data.head()"
      ]
    },
    {
      "cell_type": "code",
      "execution_count": null,
      "metadata": {
        "id": "CFS9w3P30Hig",
        "outputId": "d0bb75d5-4d5d-4a21-f3e7-df424bdab2f6",
        "colab": {
          "base_uri": "https://localhost:8080/",
          "height": 405
        }
      },
      "outputs": [
        {
          "output_type": "display_data",
          "data": {
            "text/plain": [
              "<Figure size 720x432 with 1 Axes>"
            ],
            "image/png": "[encoded data removed]"
          },
          "metadata": {
            "needs_background": "light"
          }
        }
      ],
      "source": [
        "gs_slic_data[['open','open_predicted']].plot(figsize=(10,6))\n",
        "plt.xticks(rotation=45)\n",
        "plt.xlabel('Date',size=15)\n",
        "plt.ylabel('Stock Price',size=15)\n",
        "plt.title('Actual vs Predicted for open price',size=15)\n",
        "plt.show()"
      ]
    },
    {
      "cell_type": "code",
      "execution_count": null,
      "metadata": {
        "id": "YEYigZI8PFo1",
        "outputId": "35d09b30-787b-4084-e20a-d102ebb00b3d",
        "colab": {
          "base_uri": "https://localhost:8080/",
          "height": 405
        }
      },
      "outputs": [
        {
          "output_type": "display_data",
          "data": {
            "text/plain": [
              "<Figure size 720x432 with 1 Axes>"
            ],
            "image/png": "[encoded data removed]"
          },
          "metadata": {
            "needs_background": "light"
          }
        }
      ],
      "source": [
        "gs_slic_data[['close','close_predicted']].plot(figsize=(10,6))\n",
        "plt.xticks(rotation=45)\n",
        "plt.xlabel('Date',size=15)\n",
        "plt.ylabel('Stock Price',size=15)\n",
        "plt.title('Actual vs Predicted for close price',size=15)\n",
        "plt.show()"
      ]
    },
    {
      "cell_type": "markdown",
      "metadata": {
        "id": "WeWDN9x_6RIt"
      },
      "source": [
        "# Predicting upcoming 10 days"
      ]
    },
    {
      "cell_type": "code",
      "execution_count": null,
      "metadata": {
        "id": "ByoVNOEn0Ht4"
      },
      "outputs": [],
      "source": [
        "# Creating a dataframe and adding 10 days to existing index \n",
        "\n",
        "gs_slic_data = gs_slic_data.append(pd.DataFrame(columns=gs_slic_data.columns,index=pd.date_range(start=gs_slic_data.index[-1], periods=11, freq='D', closed='right')))\n"
      ]
    },
    {
      "cell_type": "code",
      "execution_count": null,
      "metadata": {
        "id": "1s1rK-LV9Se_",
        "outputId": "29c97030-a3cb-49d7-d34b-01882966ef0f",
        "colab": {
          "base_uri": "https://localhost:8080/"
        }
      },
      "outputs": [
        {
          "output_type": "execute_result",
          "data": {
            "text/plain": [
              "               open    close  open_predicted  close_predicted\n",
              "2021-06-09  2499.50  2491.40     2421.141846      2288.627686\n",
              "2021-06-10  2494.01  2521.60     2432.604492      2293.807617\n",
              "2021-06-11  2524.92  2513.93     2446.473145      2303.672363\n",
              "2021-06-12      NaN      NaN             NaN              NaN\n",
              "2021-06-13      NaN      NaN             NaN              NaN\n",
              "2021-06-14      NaN      NaN             NaN              NaN\n",
              "2021-06-15      NaN      NaN             NaN              NaN\n",
              "2021-06-16      NaN      NaN             NaN              NaN"
            ],
            "text/html": [
              "\n",
              "  <div id=\"df-e97d864f-1105-43ca-a387-e6a08abdb0ac\">\n",
              "    <div class=\"colab-df-container\">\n",
              "      <div>\n",
              "<style scoped>\n",
              "    .dataframe tbody tr th:only-of-type {\n",
              "        vertical-align: middle;\n",
              "    }\n",
              "\n",
              "    .dataframe tbody tr th {\n",
              "        vertical-align: top;\n",
              "    }\n",
              "\n",
              "    .dataframe thead th {\n",
              "        text-align: right;\n",
              "    }\n",
              "</style>\n",
              "<table border=\"1\" class=\"dataframe\">\n",
              "  <thead>\n",
              "    <tr style=\"text-align: right;\">\n",
              "      <th></th>\n",
              "      <th>open</th>\n",
              "      <th>close</th>\n",
              "      <th>open_predicted</th>\n",
              "      <th>close_predicted</th>\n",
              "    </tr>\n",
              "  </thead>\n",
              "  <tbody>\n",
              "    <tr>\n",
              "      <th>2021-06-09</th>\n",
              "      <td>2499.50</td>\n",
              "      <td>2491.40</td>\n",
              "      <td>2421.141846</td>\n",
              "      <td>2288.627686</td>\n",
              "    </tr>\n",
              "    <tr>\n",
              "      <th>2021-06-10</th>\n",
              "      <td>2494.01</td>\n",
              "      <td>2521.60</td>\n",
              "      <td>2432.604492</td>\n",
              "      <td>2293.807617</td>\n",
              "    </tr>\n",
              "    <tr>\n",
              "      <th>2021-06-11</th>\n",
              "      <td>2524.92</td>\n",
              "      <td>2513.93</td>\n",
              "      <td>2446.473145</td>\n",
              "      <td>2303.672363</td>\n",
              "    </tr>\n",
              "    <tr>\n",
              "      <th>2021-06-12</th>\n",
              "      <td>NaN</td>\n",
              "      <td>NaN</td>\n",
              "      <td>NaN</td>\n",
              "      <td>NaN</td>\n",
              "    </tr>\n",
              "    <tr>\n",
              "      <th>2021-06-13</th>\n",
              "      <td>NaN</td>\n",
              "      <td>NaN</td>\n",
              "      <td>NaN</td>\n",
              "      <td>NaN</td>\n",
              "    </tr>\n",
              "    <tr>\n",
              "      <th>2021-06-14</th>\n",
              "      <td>NaN</td>\n",
              "      <td>NaN</td>\n",
              "      <td>NaN</td>\n",
              "      <td>NaN</td>\n",
              "    </tr>\n",
              "    <tr>\n",
              "      <th>2021-06-15</th>\n",
              "      <td>NaN</td>\n",
              "      <td>NaN</td>\n",
              "      <td>NaN</td>\n",
              "      <td>NaN</td>\n",
              "    </tr>\n",
              "    <tr>\n",
              "      <th>2021-06-16</th>\n",
              "      <td>NaN</td>\n",
              "      <td>NaN</td>\n",
              "      <td>NaN</td>\n",
              "      <td>NaN</td>\n",
              "    </tr>\n",
              "  </tbody>\n",
              "</table>\n",
              "</div>\n",
              "      <button class=\"colab-df-convert\" onclick=\"convertToInteractive('df-e97d864f-1105-43ca-a387-e6a08abdb0ac')\"\n",
              "              title=\"Convert this dataframe to an interactive table.\"\n",
              "              style=\"display:none;\">\n",
              "        \n",
              "  <svg xmlns=\"http://www.w3.org/2000/svg\" height=\"24px\"viewBox=\"0 0 24 24\"\n",
              "       width=\"24px\">\n",
              "    <path d=\"M0 0h24v24H0V0z\" fill=\"none\"/>\n",
              "    <path d=\"M18.56 5.44l.94 2.06.94-2.06 2.06-.94-2.06-.94-.94-2.06-.94 2.06-2.06.94zm-11 1L8.5 8.5l.94-2.06 2.06-.94-2.06-.94L8.5 2.5l-.94 2.06-2.06.94zm10 10l.94 2.06.94-2.06 2.06-.94-2.06-.94-.94-2.06-.94 2.06-2.06.94z\"/><path d=\"M17.41 7.96l-1.37-1.37c-.4-.4-.92-.59-1.43-.59-.52 0-1.04.2-1.43.59L10.3 9.45l-7.72 7.72c-.78.78-.78 2.05 0 2.83L4 21.41c.39.39.9.59 1.41.59.51 0 1.02-.2 1.41-.59l7.78-7.78 2.81-2.81c.8-.78.8-2.07 0-2.86zM5.41 20L4 18.59l7.72-7.72 1.47 1.35L5.41 20z\"/>\n",
              "  </svg>\n",
              "      </button>\n",
              "      \n",
              "  <style>\n",
              "    .colab-df-container {\n",
              "      display:flex;\n",
              "      flex-wrap:wrap;\n",
              "      gap: 12px;\n",
              "    }\n",
              "\n",
              "    .colab-df-convert {\n",
              "      background-color: #E8F0FE;\n",
              "      border: none;\n",
              "      border-radius: 50%;\n",
              "      cursor: pointer;\n",
              "      display: none;\n",
              "      fill: #1967D2;\n",
              "      height: 32px;\n",
              "      padding: 0 0 0 0;\n",
              "      width: 32px;\n",
              "    }\n",
              "\n",
              "    .colab-df-convert:hover {\n",
              "      background-color: #E2EBFA;\n",
              "      box-shadow: 0px 1px 2px rgba(60, 64, 67, 0.3), 0px 1px 3px 1px rgba(60, 64, 67, 0.15);\n",
              "      fill: #174EA6;\n",
              "    }\n",
              "\n",
              "    [theme=dark] .colab-df-convert {\n",
              "      background-color: #3B4455;\n",
              "      fill: #D2E3FC;\n",
              "    }\n",
              "\n",
              "    [theme=dark] .colab-df-convert:hover {\n",
              "      background-color: #434B5C;\n",
              "      box-shadow: 0px 1px 3px 1px rgba(0, 0, 0, 0.15);\n",
              "      filter: drop-shadow(0px 1px 2px rgba(0, 0, 0, 0.3));\n",
              "      fill: #FFFFFF;\n",
              "    }\n",
              "  </style>\n",
              "\n",
              "      <script>\n",
              "        const buttonEl =\n",
              "          document.querySelector('#df-e97d864f-1105-43ca-a387-e6a08abdb0ac button.colab-df-convert');\n",
              "        buttonEl.style.display =\n",
              "          google.colab.kernel.accessAllowed ? 'block' : 'none';\n",
              "\n",
              "        async function convertToInteractive(key) {\n",
              "          const element = document.querySelector('#df-e97d864f-1105-43ca-a387-e6a08abdb0ac');\n",
              "          const dataTable =\n",
              "            await google.colab.kernel.invokeFunction('convertToInteractive',\n",
              "                                                     [key], {});\n",
              "          if (!dataTable) return;\n",
              "\n",
              "          const docLinkHtml = 'Like what you see? Visit the ' +\n",
              "            '<a target=\"_blank\" href=https://colab.research.google.com/notebooks/data_table.ipynb>data table notebook</a>'\n",
              "            + ' to learn more about interactive tables.';\n",
              "          element.innerHTML = '';\n",
              "          dataTable['output_type'] = 'display_data';\n",
              "          await google.colab.output.renderOutput(dataTable, element);\n",
              "          const docLink = document.createElement('div');\n",
              "          docLink.innerHTML = docLinkHtml;\n",
              "          element.appendChild(docLink);\n",
              "        }\n",
              "      </script>\n",
              "    </div>\n",
              "  </div>\n",
              "  "
            ]
          },
          "metadata": {},
          "execution_count": 25
        }
      ],
      "source": [
        "gs_slic_data['2021-06-09\t':'2021-06-16']"
      ]
    },
    {
      "cell_type": "code",
      "execution_count": null,
      "metadata": {
        "id": "NZrOofTiTUpA"
      },
      "outputs": [],
      "source": [
        "upcoming_prediction = pd.DataFrame(columns=['open','close'],index=gs_slic_data.index)\n",
        "upcoming_prediction.index=pd.to_datetime(upcoming_prediction.index)"
      ]
    },
    {
      "cell_type": "code",
      "execution_count": null,
      "metadata": {
        "id": "fexYhMesZHEy",
        "colab": {
          "base_uri": "https://localhost:8080/"
        },
        "outputId": "1c28b3b7-52a1-4ed0-ca15-b93d6b933c01"
      },
      "outputs": [
        {
          "output_type": "stream",
          "name": "stdout",
          "text": [
            "1/1 [==============================] - 0s 23ms/step\n",
            "1/1 [==============================] - 0s 23ms/step\n",
            "1/1 [==============================] - 0s 19ms/step\n",
            "1/1 [==============================] - 0s 21ms/step\n",
            "1/1 [==============================] - 0s 20ms/step\n",
            "1/1 [==============================] - 0s 36ms/step\n",
            "1/1 [==============================] - 0s 19ms/step\n",
            "1/1 [==============================] - 0s 24ms/step\n",
            "1/1 [==============================] - 0s 20ms/step\n",
            "1/1 [==============================] - 0s 20ms/step\n"
          ]
        }
      ],
      "source": [
        "curr_seq = test_seq[-1:]\n",
        "\n",
        "for i in range(-10,0):\n",
        "  up_pred = model.predict(curr_seq)\n",
        "  upcoming_prediction.iloc[i] = up_pred\n",
        "  curr_seq = np.append(curr_seq[0][1:],up_pred,axis=0)\n",
        "  curr_seq = curr_seq.reshape(test_seq[-1:].shape)\n"
      ]
    },
    {
      "cell_type": "code",
      "execution_count": null,
      "metadata": {
        "id": "ffiWW_EIZHMT"
      },
      "outputs": [],
      "source": [
        "upcoming_prediction[['open','close']] = MMS.inverse_transform(upcoming_prediction[['open','close']])"
      ]
    },
    {
      "cell_type": "code",
      "execution_count": null,
      "metadata": {
        "id": "4DvMiPkTVlEe",
        "outputId": "4f859d4e-7d4e-48df-cc88-6e7441d7bbc5",
        "colab": {
          "base_uri": "https://localhost:8080/"
        }
      },
      "outputs": [
        {
          "output_type": "display_data",
          "data": {
            "text/plain": [
              "<Figure size 720x360 with 1 Axes>"
            ],
            "image/png": "[encoded data removed]"
          },
          "metadata": {
            "needs_background": "light"
          }
        }
      ],
      "source": [
        "fg,ax=plt.subplots(figsize=(10,5))\n",
        "ax.plot(gs_slic_data.loc['2021-04-01':,'open'],label='Current Open Price')\n",
        "ax.plot(upcoming_prediction.loc['2021-04-01':,'open'],label='Upcoming Open Price')\n",
        "plt.setp(ax.xaxis.get_majorticklabels(), rotation=45)\n",
        "ax.set_xlabel('Date',size=15)\n",
        "ax.set_ylabel('Stock Price',size=15)\n",
        "ax.set_title('Upcoming Open price prediction',size=15)\n",
        "ax.legend()\n",
        "fg.show()"
      ]
    },
    {
      "cell_type": "code",
      "execution_count": null,
      "metadata": {
        "id": "r9EK16p7m8ZK",
        "outputId": "f6839562-e2db-46cf-91c2-8df4ccdef23c",
        "tags": [],
        "colab": {
          "base_uri": "https://localhost:8080/"
        }
      },
      "outputs": [
        {
          "output_type": "display_data",
          "data": {
            "text/plain": [
              "<Figure size 720x360 with 1 Axes>"
            ],
            "image/png": "[encoded data removed]"
          },
          "metadata": {
            "needs_background": "light"
          }
        }
      ],
      "source": [
        "fg,ax=plt.subplots(figsize=(10,5))\n",
        "ax.plot(gs_slic_data.loc['2021-04-01':,'close'],label='Current close Price')\n",
        "ax.plot(upcoming_prediction.loc['2021-04-01':,'close'],label='Upcoming close Price')\n",
        "plt.setp(ax.xaxis.get_majorticklabels(), rotation=45)\n",
        "ax.set_xlabel('Date',size=15)\n",
        "ax.set_ylabel('Stock Price',size=15)\n",
        "ax.set_title('Upcoming close price prediction',size=15)\n",
        "ax.legend()\n",
        "fg.show()"
      ]
    }
  ],
  "metadata": {
    "kernelspec": {
      "display_name": "Python 3 (ipykernel)",
      "language": "python",
      "name": "python3"
    },
    "language_info": {
      "codemirror_mode": {
        "name": "ipython",
        "version": 3
      },
      "file_extension": ".py",
      "mimetype": "text/x-python",
      "name": "python",
      "nbconvert_exporter": "python",
      "pygments_lexer": "ipython3",
      "version": "3.9.6"
    },
    "colab": {
      "provenance": []
    }
  },
  "nbformat": 4,
  "nbformat_minor": 0
}